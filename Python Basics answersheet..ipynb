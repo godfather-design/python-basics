{
  "nbformat": 4,
  "nbformat_minor": 0,
  "metadata": {
    "colab": {
      "provenance": []
    },
    "kernelspec": {
      "name": "python3",
      "display_name": "Python 3"
    },
    "language_info": {
      "name": "python"
    }
  },
  "cells": [
    {
      "cell_type": "markdown",
      "source": [
        "**Theoritical Question:**\n",
        "\n",
        "**Question no 1: what is python and why it is popular?:**\n",
        "\n",
        "**Answer:** Python is a high-level, interpreted programming language that's widely used for creating programmas which constists of several instruction for a computer to follow, or in other words python is a programming language which helps to buidl set of rules and symbols that define the process of writing and computer programms.\n",
        "It is very popular because it is easy to learn, begginer friendly, it is versatile. it have a lot of libraries, and a huge community.\n",
        "\n",
        "**Question no. 2. What is an interpreter in python?**\n",
        "\n",
        "**Answer:** An interpreter is a program that reads and executes python code line by line converting the code into machine language so that machine/computer can understand and operates accordingly.\n",
        "\n",
        "**Question no. 3. What are pre-defined keywords in python?**\n",
        "\n",
        "**Answer:** Predefined keywords are the words that have special meaning in the language, they can't be used as variables or identifiers because they are the part of syntax.\n",
        "for example: if, True, False, print(), for, while, etc.\n",
        "\n",
        "**Question no. 4. Can keywords be used as varaible names?**\n",
        "\n",
        "**Answer:** No, keywords can't be used as variable, because they are reserved for specific functions and if we use them as variable name the execution will show error.\n",
        "\n",
        "**Question no. 5. What is mutability in Python?**\n",
        "\n",
        "**Answer:** Objects/Containers whose state or value can be changed after they are created are called a mutable objects/Container.\n",
        "List is a type of mututabl e object, which means we can do rectification in a list once the list is created.\n",
        "\n",
        "**Question no. 6. Why lists are mutable but tuples are immutable?**\n",
        "\n",
        "**Answer:**In a list we can make changes, add, or remove elements after the list are created as they are designed to hold the dynamic collection of items/data, whereas we are not able to make changes, add or remove an element once the tuple is created as they are designed to hold a fixed collection of items/data.\n",
        "\n",
        "**Question no. 7. What is the difference be \"==\" and \"is\" in Python?**\n",
        "\n",
        "**Answer:** \"==\" stands for equality operator, it checks if the valuesv are equal. it also works if the objects are stored at different location, wvhereas \"is\" stands for identiy operator, it checks if two or more variable points to the exact same object in the memory.\n",
        "For example:\n",
        "a=(1,2,3)\n",
        "b=(1,2,3)\n",
        "we can say a==b, because both the varibles have equal value which are stored at different memory location.\n",
        "but a=c=5 we can say a is c as both have same value and stored at a same location.\n",
        "\n",
        "**Question no. 8. What are logical operators in Python?**\n",
        "\n",
        "**Answer:** The logical operators are used to combine multiple conditionvvs and return the results. There are three logical operators in python and, or and not. They are often used in if statements, loops etc."
      ],
      "metadata": {
        "id": "4vGXl2LWSvLi"
      }
    },
    {
      "cell_type": "code",
      "source": [
        "x=7\n",
        "#and\n",
        "print((x>5) and (x<10))\n",
        "#or\n",
        "print((x<10) or (x>8))\n",
        "#not\n",
        "print(not(x>5))"
      ],
      "metadata": {
        "id": "8dAtnHe9mIzV"
      },
      "execution_count": null,
      "outputs": []
    },
    {
      "cell_type": "markdown",
      "source": [
        "**Question no. 9. What is type casting in python?**\n",
        "\n",
        "**Answer:** The typecasting is the process of changing the data type of a value/data type.\n",
        "\n",
        "for example: a = \"2\", here the data type of \"a\" is str, but we can change this data type by using int(a) it will change the string data type into interger 2 or float(a) it will change the string data type into float 2.0.\n",
        "\n",
        "There are two type of type casting in python i.e implicti and explicit typecasting.\n",
        "\n",
        "**Question no. 10. What is the difference between implicit and explict type casting?**\n",
        "\n",
        "**Answer:** Implicit type casting itself changes the data type of a data//there will be a change in data type automatically by the python.\n",
        "While in the explicit type casting used has to change the data type manually using the functions like int(), float(), str(), etc.\n",
        "\n",
        "**Question no. 11. What is the purpose of conditional statements in python?**\n",
        "\n",
        "**Answer:** The purpose of conditional statements in the Python is to let the programm to make decissions depending upon the conditons provided by the user.\n",
        "They allow to execute different blocks of code, depending on whether a given condition is true or false.\n"
      ],
      "metadata": {
        "id": "nZmRY4jDm8Om"
      }
    },
    {
      "cell_type": "code",
      "source": [
        "#for example:\n",
        "age = 18\n",
        "if age >= 18:\n",
        "  print(\"You can vote\")\n",
        "else:\n",
        "  print(\"You are not eligible to vote\")"
      ],
      "metadata": {
        "id": "E_-LTT5dqlbl"
      },
      "execution_count": null,
      "outputs": []
    },
    {
      "cell_type": "markdown",
      "source": [
        "**Question no. 12. How does the elif statement works?**\n",
        "\n",
        "**Answer:** The elif is the short form for \"else if\" and it is a statement in python used to check multiple conditions one after another // in simple words we can say it is used where we have more than two conditions.\n",
        "\n",
        "It comes after if and before else.\n",
        "\n",
        "code example"
      ],
      "metadata": {
        "id": "j88-JsQ0r1Tb"
      }
    },
    {
      "cell_type": "code",
      "source": [
        "a=100\n",
        "if a > 100:\n",
        "    print(\"Number is Greater than 100\")\n",
        "elif a< 100:\n",
        "    print(\"Nunber is less than 100\")\n",
        "else:\n",
        "    print(\"Number is equals to 100\")"
      ],
      "metadata": {
        "id": "Y47NZVgKshBM"
      },
      "execution_count": null,
      "outputs": []
    },
    {
      "cell_type": "markdown",
      "source": [
        "**Question no. 13. What is the difference between for and while loops?**\n",
        "\n",
        "**Answer:**for loop will iterate over a sequece of elements // it is used whed we know how many times we want to loop.\n",
        "while loop will repeatly execute a block of code untill a condition is met. // it will continues to execute a block of code as long as the conditon is True.\n",
        "\n",
        "**Question no. 14. Describe a scenario where a while loop is more suitable than a for loop.**\n",
        "\n",
        "**Answer:** Imagine a condition where a user is on the login page of the website and trying to enter the password and the user get unlimited attempts untill the used enter a correct password."
      ],
      "metadata": {
        "id": "zouk_K_Qs5bb"
      }
    },
    {
      "cell_type": "code",
      "source": [
        "correct_password = \"python@123\"\n",
        "entered_password = \"\"\n",
        "\n",
        "while entered_password != correct_password:\n",
        "  entered_password = input(\"Enter password: \")\n",
        "\n",
        "print(\"Access Granted\")\n"
      ],
      "metadata": {
        "colab": {
          "base_uri": "https://localhost:8080/"
        },
        "id": "ZC6okyVMwBSW",
        "outputId": "b76d62d2-45fd-4676-ea25-41dce65067db"
      },
      "execution_count": null,
      "outputs": [
        {
          "output_type": "stream",
          "name": "stdout",
          "text": [
            "Enter password: fndvt\n",
            "Enter password: python@123\n",
            "Access Granted\n"
          ]
        }
      ]
    },
    {
      "cell_type": "markdown",
      "source": [
        "**Practical Questions**\n",
        "**Question no. 1. Write a pyton programm to print \"Hello, World!\"**"
      ],
      "metadata": {
        "id": "mx6OCKyLxZS4"
      }
    },
    {
      "cell_type": "code",
      "source": [
        "print(\"Hello, World!\")"
      ],
      "metadata": {
        "colab": {
          "base_uri": "https://localhost:8080/"
        },
        "id": "roo5Hu_hz0U5",
        "outputId": "220673ba-ebb6-4673-a6ee-ab2bf02e1acf"
      },
      "execution_count": null,
      "outputs": [
        {
          "output_type": "stream",
          "name": "stdout",
          "text": [
            "Hello, World!\n"
          ]
        }
      ]
    },
    {
      "cell_type": "markdown",
      "source": [
        "**Question no. 2. Write a python programm to diplay your name and age.**"
      ],
      "metadata": {
        "id": "GFgnqaSD047v"
      }
    },
    {
      "cell_type": "code",
      "source": [
        "name = \"Ritesh Kumar\"\n",
        "age = 23\n",
        "\n",
        "print(\"My name is\", name)\n",
        "print(\"I am\", age, \"years old\")"
      ],
      "metadata": {
        "colab": {
          "base_uri": "https://localhost:8080/"
        },
        "id": "KyujxKDk1P7I",
        "outputId": "af7b9670-34b3-4fd8-c35f-7e86ce535fbf"
      },
      "execution_count": null,
      "outputs": [
        {
          "output_type": "stream",
          "name": "stdout",
          "text": [
            "My name is Ritesh Kumar\n",
            "I am 23 years old\n"
          ]
        }
      ]
    },
    {
      "cell_type": "markdown",
      "source": [
        "**Question no. 3. Write code to print all the predefined keywords in python using the keyword library.**"
      ],
      "metadata": {
        "id": "JLyFETDB18OX"
      }
    },
    {
      "cell_type": "code",
      "source": [
        "help(\"keywords\")"
      ],
      "metadata": {
        "colab": {
          "base_uri": "https://localhost:8080/"
        },
        "id": "DIPbUx342WdH",
        "outputId": "cd50468d-3b0b-4eaa-c111-73af943c4120"
      },
      "execution_count": null,
      "outputs": [
        {
          "output_type": "stream",
          "name": "stdout",
          "text": [
            "\n",
            "Here is a list of the Python keywords.  Enter any keyword to get more help.\n",
            "\n",
            "False               class               from                or\n",
            "None                continue            global              pass\n",
            "True                def                 if                  raise\n",
            "and                 del                 import              return\n",
            "as                  elif                in                  try\n",
            "assert              else                is                  while\n",
            "async               except              lambda              with\n",
            "await               finally             nonlocal            yield\n",
            "break               for                 not                 \n",
            "\n"
          ]
        }
      ]
    },
    {
      "cell_type": "markdown",
      "source": [
        "**Question no. 4. Write a python programm that checks if a given word is a python keyword.**"
      ],
      "metadata": {
        "id": "UCGoqU0k3UU_"
      }
    },
    {
      "cell_type": "code",
      "source": [
        "import keyword\n",
        "word = input(\"Enter a word to check if it's a Python keyword: \")\n",
        "\n",
        "if keyword.iskeyword(word):\n",
        "    print(f\"'{word}' is a Python keyword.\")\n",
        "else:\n",
        "    print(f\"'{word}' is NOT a Python keyword.\")"
      ],
      "metadata": {
        "colab": {
          "base_uri": "https://localhost:8080/"
        },
        "id": "S647aiVd3rs3",
        "outputId": "0fb37301-8030-4859-9c6e-47adef424d10"
      },
      "execution_count": 4,
      "outputs": [
        {
          "output_type": "stream",
          "name": "stdout",
          "text": [
            "Enter a word to check if it's a Python keyword: nvr gbdget\n",
            "'nvr gbdget' is NOT a Python keyword.\n"
          ]
        }
      ]
    },
    {
      "cell_type": "markdown",
      "source": [
        "**Question no. 5. Creat a list and tuple in python and demostrate how attempting to change an element works differntly for eacht other.**"
      ],
      "metadata": {
        "id": "IPjQOzFNHzqi"
      }
    },
    {
      "cell_type": "code",
      "source": [
        "#list\n",
        "a = [10, 12, 14, 16, 18, 20, 22, 24, 26, 28]\n",
        "#changing the element of a\n",
        "a[1] = 34\n",
        "print(a)\n",
        "\n",
        "a[5] = 54\n",
        "print(a)\n",
        "\n",
        "#tuple\n",
        "b = (10, 12, 14, 16, 18, 20, 22, 24, 26, 28, 30)\n",
        "print(b)\n",
        "\n",
        "#changeing the element of b(which is actually a tuple)\n",
        "\n",
        "b[0] = 3024\n",
        "print(b)\n",
        "\n",
        "#we can see that when we are going to change an item for list it is fully executable but for a tuple changeing an item is not executable."
      ],
      "metadata": {
        "colab": {
          "base_uri": "https://localhost:8080/",
          "height": 245
        },
        "id": "je1ve948JDtk",
        "outputId": "9240beef-8ec7-4846-f1fd-9c13f153ac01"
      },
      "execution_count": 9,
      "outputs": [
        {
          "output_type": "stream",
          "name": "stdout",
          "text": [
            "[10, 34, 14, 16, 18, 20, 22, 24, 26, 28]\n",
            "[10, 34, 14, 16, 18, 54, 22, 24, 26, 28]\n",
            "(10, 12, 14, 16, 18, 20, 22, 24, 26, 28, 30)\n"
          ]
        },
        {
          "output_type": "error",
          "ename": "TypeError",
          "evalue": "'tuple' object does not support item assignment",
          "traceback": [
            "\u001b[0;31m---------------------------------------------------------------------------\u001b[0m",
            "\u001b[0;31mTypeError\u001b[0m                                 Traceback (most recent call last)",
            "\u001b[0;32m<ipython-input-9-0e9203ddcc88>\u001b[0m in \u001b[0;36m<cell line: 0>\u001b[0;34m()\u001b[0m\n\u001b[1;32m     14\u001b[0m \u001b[0;31m#changeing the element of b(which is actually a tuple)\u001b[0m\u001b[0;34m\u001b[0m\u001b[0;34m\u001b[0m\u001b[0m\n\u001b[1;32m     15\u001b[0m \u001b[0;34m\u001b[0m\u001b[0m\n\u001b[0;32m---> 16\u001b[0;31m \u001b[0mb\u001b[0m\u001b[0;34m[\u001b[0m\u001b[0;36m0\u001b[0m\u001b[0;34m]\u001b[0m \u001b[0;34m=\u001b[0m \u001b[0;36m3024\u001b[0m\u001b[0;34m\u001b[0m\u001b[0;34m\u001b[0m\u001b[0m\n\u001b[0m\u001b[1;32m     17\u001b[0m \u001b[0mprint\u001b[0m\u001b[0;34m(\u001b[0m\u001b[0mb\u001b[0m\u001b[0;34m)\u001b[0m\u001b[0;34m\u001b[0m\u001b[0;34m\u001b[0m\u001b[0m\n",
            "\u001b[0;31mTypeError\u001b[0m: 'tuple' object does not support item assignment"
          ]
        }
      ]
    },
    {
      "cell_type": "markdown",
      "source": [
        "**Question no. 6. Write a function to demonstrate the behavior of mutable and immutable arguments.**"
      ],
      "metadata": {
        "id": "2_0vWy09LhoV"
      }
    },
    {
      "cell_type": "code",
      "source": [
        "#we know that making a change in the value or data is called mutablility and vice-versa\n",
        "#we also know that list is a example of mutable object and string is a example of immutable object. taking this into consideration we will proceed forward.\n",
        "#creating a list\n",
        "a = [1, 2, 3, 4, 5, 6, 7, 8, 9, 10, 11, 12, 13, 14, 15]\n",
        "print(a)\n",
        "\n",
        "#making a change in the 5th element of a\n",
        "a[5] = 3054\n",
        "print(a)\n",
        "\n",
        "#creating a string then we will try to make changes in the string.\n",
        "\n",
        "a = (\"hello\")\n",
        "print(a)\n",
        "\n",
        "a += \" world\"\n",
        "\n",
        "print(a)\n",
        "\n",
        "#'''we can clearly see that if we are trying to make changes in the string\n",
        "#it does not changing the value instead it is adding the new element in the\n",
        "#string, which seems similar to concetenation'''"
      ],
      "metadata": {
        "colab": {
          "base_uri": "https://localhost:8080/"
        },
        "id": "KfXURqeQKJwt",
        "outputId": "c7e7b0c8-7b27-4684-d600-8486b145b848"
      },
      "execution_count": 19,
      "outputs": [
        {
          "output_type": "stream",
          "name": "stdout",
          "text": [
            "[1, 2, 3, 4, 5, 6, 7, 8, 9, 10, 11, 12, 13, 14, 15]\n",
            "[1, 2, 3, 4, 5, 3054, 7, 8, 9, 10, 11, 12, 13, 14, 15]\n",
            "hello\n",
            "hello world\n"
          ]
        }
      ]
    },
    {
      "cell_type": "markdown",
      "source": [
        "**Question no. 7. Write a programm that performs arthmatic operation on two-user input number.**\n"
      ],
      "metadata": {
        "id": "YImEmfu-PHn4"
      }
    },
    {
      "cell_type": "code",
      "source": [
        "a = int(input(\"please enter a number: \"))\n",
        "b = int(input(\"please enter a number: \"))\n",
        "\n",
        "c = a + b\n",
        "\n",
        "print(c)"
      ],
      "metadata": {
        "colab": {
          "base_uri": "https://localhost:8080/"
        },
        "id": "PltiPVQZNU6y",
        "outputId": "b9bfa145-7b83-44bc-a7dd-c1853924b4b9"
      },
      "execution_count": 22,
      "outputs": [
        {
          "output_type": "stream",
          "name": "stdout",
          "text": [
            "please enter a number: 8\n",
            "please enter a number: 0\n",
            "8\n"
          ]
        }
      ]
    },
    {
      "cell_type": "markdown",
      "source": [
        "**Question no. 8. Write a programm to demostrate the use of logical operators.**"
      ],
      "metadata": {
        "id": "AbcxB8B2RJR9"
      }
    },
    {
      "cell_type": "code",
      "source": [
        "#we are making a entry system based on age and valid id proof.\n",
        "age = int(input(\"please enter your age: \"))\n",
        "Have_valid_id = input(\"Do you have a valid id?(Yes/No): \")\n",
        "\n",
        "#logical operator\n",
        "#using and\n",
        "#in this type of operation both the values are neccessary.\n",
        "if (age>= 18) and (Have_valid_id == \"Yes\"):\n",
        "  print(\"Welcome to Royal Hotel\")\n",
        "else:\n",
        "  print(\"You are not allowed to enter please make sure you have a valid id with you\")\n",
        "\n",
        "#using orss\n",
        "if (age >= 18) or (Have_valid_id == \"Yes\"):\n",
        "  print(\"You can be considered as a conditional entery. Please verify your id at the checking counter\")\n",
        "\n",
        "#using not\n",
        "if not(Have_valid_id == \"yes\"):\n",
        "  print(\"You must carry an ID next time\")\n"
      ],
      "metadata": {
        "colab": {
          "base_uri": "https://localhost:8080/"
        },
        "id": "qapekJFuRmov",
        "outputId": "3ee7ee10-4814-4505-c4b2-081e1f69f29f"
      },
      "execution_count": 27,
      "outputs": [
        {
          "output_type": "stream",
          "name": "stdout",
          "text": [
            "please enter your age: 56\n",
            "Do you have a valid id?(Yes/No): no\n",
            "You are not allowed to enter please make sure you have a valid id with you\n",
            "You can be considered as a conditional entery. Please verify your id at the checking counter\n",
            "You must carry an ID next time\n"
          ]
        }
      ]
    },
    {
      "cell_type": "markdown",
      "source": [
        "**Question no. 9. Write a python program to convert user input from string to integer, float and boolean type.**"
      ],
      "metadata": {
        "id": "ykdbY9NDVatp"
      }
    },
    {
      "cell_type": "code",
      "source": [
        "a =input(\"Please enter a value: \")\n",
        "\n",
        "#convert to integer\n",
        "print(int(a))\n",
        "\n",
        "#convert to float\n",
        "print(float(a))\n",
        "\n",
        "#convert to boolean\n",
        "print(bool(a))"
      ],
      "metadata": {
        "colab": {
          "base_uri": "https://localhost:8080/"
        },
        "id": "S3JWPyLWUMMM",
        "outputId": "4ca1134e-5bf5-4401-fc4f-94108d28dc7d"
      },
      "execution_count": 34,
      "outputs": [
        {
          "output_type": "stream",
          "name": "stdout",
          "text": [
            "Please enter a value: 87\n",
            "87\n",
            "87.0\n",
            "True\n"
          ]
        }
      ]
    },
    {
      "cell_type": "markdown",
      "source": [
        "**Question no. 10. Write a code to demonstrate type casting with lists element.**"
      ],
      "metadata": {
        "id": "1Epjja6TXm3g"
      }
    },
    {
      "cell_type": "code",
      "source": [
        "#list of string number.\n",
        "a = ['2', '3', '4', '5', '6', '7',]\n",
        "\n",
        "print(a)\n",
        "\n",
        "#converting to intergers.\n",
        "b = [int(item) for item in a]\n",
        "\n",
        "print(b)\n",
        "\n",
        "#converting to float.\n",
        "c = [float(item) for item in a]\n",
        "\n",
        "print(c)\n",
        "\n",
        "#converting to boolean\n",
        "d = [bool(item) for item in a]\n",
        "\n",
        "print(d)"
      ],
      "metadata": {
        "colab": {
          "base_uri": "https://localhost:8080/"
        },
        "id": "qLJ4tJFpYL2m",
        "outputId": "e202589a-cafb-4026-dd6c-956b2352ffa0"
      },
      "execution_count": 42,
      "outputs": [
        {
          "output_type": "stream",
          "name": "stdout",
          "text": [
            "['2', '3', '4', '5', '6', '7']\n",
            "[2, 3, 4, 5, 6, 7]\n",
            "[2.0, 3.0, 4.0, 5.0, 6.0, 7.0]\n",
            "[True, True, True, True, True, True]\n"
          ]
        }
      ]
    },
    {
      "cell_type": "markdown",
      "source": [
        "**Question no. 11. Write a program that checks if a number is positive, negetive or zero.**"
      ],
      "metadata": {
        "id": "X05gJ2-6Z0zb"
      }
    },
    {
      "cell_type": "code",
      "source": [
        "a = float(input(\"Please enter a number: \"))\n",
        "\n",
        "if a > 0:\n",
        "  print(\"Given number is a Positive number. \")\n",
        "elif a < 0:\n",
        "    print(\"Given nuber is a Negetive number.\")\n",
        "else:\n",
        "  print(\"It is a Zero\")"
      ],
      "metadata": {
        "colab": {
          "base_uri": "https://localhost:8080/"
        },
        "id": "PCBWHLf0V0aq",
        "outputId": "addcfa6a-4afe-4d96-d3f5-247363a4b221"
      },
      "execution_count": 48,
      "outputs": [
        {
          "output_type": "stream",
          "name": "stdout",
          "text": [
            "Please enter a number: 87\n",
            "Given number is a Positive number. \n"
          ]
        }
      ]
    },
    {
      "cell_type": "markdown",
      "source": [
        "**Question no. 12. Write a for loop to print number from 1 to 10.**"
      ],
      "metadata": {
        "id": "N-lt7pQvb-uN"
      }
    },
    {
      "cell_type": "code",
      "source": [
        "for i in range(11):\n",
        "    print(i)"
      ],
      "metadata": {
        "colab": {
          "base_uri": "https://localhost:8080/"
        },
        "id": "RdOp23qzcSgm",
        "outputId": "0c7ea8fe-6773-47fd-d5ba-c457ccc1d6f7"
      },
      "execution_count": 51,
      "outputs": [
        {
          "output_type": "stream",
          "name": "stdout",
          "text": [
            "0\n",
            "1\n",
            "2\n",
            "3\n",
            "4\n",
            "5\n",
            "6\n",
            "7\n",
            "8\n",
            "9\n",
            "10\n"
          ]
        }
      ]
    },
    {
      "cell_type": "markdown",
      "source": [
        "**Question no. 13. Write a python program to find the sum of all the even number between 1-50.**"
      ],
      "metadata": {
        "id": "-UxOAQ-cc3HH"
      }
    },
    {
      "cell_type": "code",
      "source": [
        "sum = 0\n",
        "for number in range(1,51):\n",
        "    if number %2 == 0:\n",
        "        sum = sum + number\n",
        "print(sum)"
      ],
      "metadata": {
        "colab": {
          "base_uri": "https://localhost:8080/"
        },
        "id": "VOei3F3AdLtC",
        "outputId": "69e06f68-8551-4db2-dfbc-a29664cacee1"
      },
      "execution_count": 56,
      "outputs": [
        {
          "output_type": "stream",
          "name": "stdout",
          "text": [
            "650\n"
          ]
        }
      ]
    },
    {
      "cell_type": "markdown",
      "source": [
        "**Question no. 14. Write a program to reverse a string using a while loop.**"
      ],
      "metadata": {
        "id": "GUJHHzp_fJUQ"
      }
    },
    {
      "cell_type": "code",
      "source": [
        "a = input(\"Enter a string: \")\n",
        "\n",
        "b = \"\"\n",
        "index = len(a) - 1\n",
        "\n",
        "while index >= 0:\n",
        "    b += a[index]\n",
        "    index -= 1\n",
        "\n",
        "# Print the reversed string\n",
        "print(\"Reversed string:\", b)\n"
      ],
      "metadata": {
        "colab": {
          "base_uri": "https://localhost:8080/"
        },
        "id": "q-_-mMvdfXfZ",
        "outputId": "f1a4eaa0-32b0-4ed1-ca1f-5239bd95175f"
      },
      "execution_count": 59,
      "outputs": [
        {
          "output_type": "stream",
          "name": "stdout",
          "text": [
            "Enter a string: mgurirwfm\n",
            "Reversed string: mfwrirugm\n"
          ]
        }
      ]
    },
    {
      "cell_type": "markdown",
      "source": [
        "**Question no. 15. Write a python to programm to caculate the factorail of a number provided by the user using a while loop.**"
      ],
      "metadata": {
        "id": "AaatInrtigYO"
      }
    },
    {
      "cell_type": "code",
      "source": [
        "x = int(input(\"Enter a number to calculate its factorial: \"))\n",
        "factorial = 1\n",
        "i = 1\n",
        "\n",
        "while i <= x:\n",
        "    factorial *= i\n",
        "    i += 1\n",
        "\n",
        "print(f\"The factorial of {x} is {factorial}\")\n"
      ],
      "metadata": {
        "colab": {
          "base_uri": "https://localhost:8080/"
        },
        "id": "QLSDWO7kjqvA",
        "outputId": "201267a0-b2ab-4b96-ebd8-b02e9029131c"
      },
      "execution_count": 64,
      "outputs": [
        {
          "output_type": "stream",
          "name": "stdout",
          "text": [
            "Enter a number to calculate its factorial: 9\n",
            "The factorial of 9 is 362880\n"
          ]
        }
      ]
    },
    {
      "cell_type": "code",
      "source": [],
      "metadata": {
        "id": "FpYAT-PNkdbG"
      },
      "execution_count": 64,
      "outputs": []
    }
  ]
}